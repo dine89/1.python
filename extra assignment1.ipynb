{
 "cells": [
  {
   "cell_type": "code",
   "execution_count": 1,
   "id": "73908e27-0c1c-4536-8045-f85672f59df7",
   "metadata": {},
   "outputs": [
    {
     "name": "stdout",
     "output_type": "stream",
     "text": [
      "hope AI\n"
     ]
    }
   ],
   "source": [
    "print(\"hope AI\")"
   ]
  },
  {
   "cell_type": "code",
   "execution_count": 3,
   "id": "28eaab05-e1d8-45d7-a968-dba69c8270ab",
   "metadata": {},
   "outputs": [
    {
     "name": "stdin",
     "output_type": "stream",
     "text": [
      "enter institute name?: hope AI\n"
     ]
    }
   ],
   "source": [
    "int=input(\"enter institute name?:\")"
   ]
  },
  {
   "cell_type": "code",
   "execution_count": 1,
   "id": "f6d16efe-f7a5-43f1-ab04-fbc86d6574e6",
   "metadata": {},
   "outputs": [
    {
     "name": "stdin",
     "output_type": "stream",
     "text": [
      "enter your name: raj\n",
      "enter your age: 15\n",
      "enter your school name: guru school\n",
      "enter your degree: B.E cse\n"
     ]
    }
   ],
   "source": [
    "name=input(\"enter your name:\")\n",
    "age=int(input(\"enter your age:\"))\n",
    "school=input(\"enter your school name:\")\n",
    "degree=input(\"enter your degree:\")\n"
   ]
  },
  {
   "cell_type": "code",
   "execution_count": 25,
   "id": "4158da04-6c9b-4253-bf68-35fda82bf09c",
   "metadata": {},
   "outputs": [
    {
     "name": "stdout",
     "output_type": "stream",
     "text": [
      "a=43\n",
      "b=34\n",
      "add= 77\n"
     ]
    }
   ],
   "source": [
    "a=43\n",
    "b=34\n",
    "add=a+b\n",
    "print(\"a=43\")\n",
    "print(\"b=34\")\n",
    "print(\"add=\",add)"
   ]
  },
  {
   "cell_type": "code",
   "execution_count": 27,
   "id": "7e523a54-5c84-4d02-b5ba-c3297d111047",
   "metadata": {},
   "outputs": [
    {
     "name": "stdout",
     "output_type": "stream",
     "text": [
      "a=43\n",
      "b=34\n",
      "sub= 9\n"
     ]
    }
   ],
   "source": [
    "a=43\n",
    "b=34\n",
    "sub=a-b\n",
    "print(\"a=43\")\n",
    "print(\"b=34\")\n",
    "print(\"sub=\",sub)"
   ]
  },
  {
   "cell_type": "code",
   "execution_count": 29,
   "id": "96d0bcd5-39b5-49bf-a396-b0bd34f99a76",
   "metadata": {},
   "outputs": [
    {
     "name": "stdout",
     "output_type": "stream",
     "text": [
      "a=63\n",
      "b=97\n",
      "mul= 6111\n"
     ]
    }
   ],
   "source": [
    "a=63\n",
    "b=97\n",
    "mul=a*b\n",
    "print(\"a=63\")\n",
    "print(\"b=97\")\n",
    "print(\"mul=\",mul)"
   ]
  },
  {
   "cell_type": "code",
   "execution_count": 11,
   "id": "520d0d6e-9089-477f-999c-487abbda770f",
   "metadata": {},
   "outputs": [
    {
     "name": "stdout",
     "output_type": "stream",
     "text": [
      "a=76\n",
      "b=31\n",
      "float div= 2.4516129032258065\n"
     ]
    }
   ],
   "source": [
    "a=76\n",
    "b=31\n",
    "floatdiv=a/b\n",
    "print(\"a=76\")\n",
    "print(\"b=31\")\n",
    "print(\"float div=\",div)"
   ]
  },
  {
   "cell_type": "code",
   "execution_count": 29,
   "id": "c5698bed-8d28-4d37-b6e4-a7ad43ca2105",
   "metadata": {},
   "outputs": [
    {
     "name": "stdout",
     "output_type": "stream",
     "text": [
      "a=76\n",
      "b=31\n",
      "floor div= 2\n"
     ]
    }
   ],
   "source": [
    "a=76\n",
    "b=31\n",
    "floordiv=a//b\n",
    "print(\"a=76\")\n",
    "print(\"b=31\")\n",
    "print(\"floor div=\",floordiv)"
   ]
  },
  {
   "cell_type": "code",
   "execution_count": 15,
   "id": "cb48faef-53dc-4037-b897-501c5b158836",
   "metadata": {},
   "outputs": [
    {
     "name": "stdout",
     "output_type": "stream",
     "text": [
      "a=76\n",
      "b=31\n",
      "modulo= 14\n"
     ]
    }
   ],
   "source": [
    "a=76\n",
    "b=31\n",
    "modulo=76%31\n",
    "print(\"a=76\")\n",
    "print(\"b=31\")\n",
    "print(\"modulo=\",modulo)"
   ]
  },
  {
   "cell_type": "code",
   "execution_count": 19,
   "id": "3ab6be2a-a713-40bd-ad05-a3e446673402",
   "metadata": {},
   "outputs": [
    {
     "name": "stdout",
     "output_type": "stream",
     "text": [
      "a=4\n",
      "b=4\n",
      "power= 256\n"
     ]
    }
   ],
   "source": [
    "a=4\n",
    "b=4\n",
    "power=4**4\n",
    "print(\"a=4\")\n",
    "print(\"b=4\")\n",
    "print(\"power=\",power)"
   ]
  },
  {
   "cell_type": "code",
   "execution_count": null,
   "id": "c4591008-790d-42d5-87ab-faea938eab2a",
   "metadata": {},
   "outputs": [],
   "source": []
  }
 ],
 "metadata": {
  "kernelspec": {
   "display_name": "Python [conda env:base] *",
   "language": "python",
   "name": "conda-base-py"
  },
  "language_info": {
   "codemirror_mode": {
    "name": "ipython",
    "version": 3
   },
   "file_extension": ".py",
   "mimetype": "text/x-python",
   "name": "python",
   "nbconvert_exporter": "python",
   "pygments_lexer": "ipython3",
   "version": "3.12.7"
  }
 },
 "nbformat": 4,
 "nbformat_minor": 5
}
