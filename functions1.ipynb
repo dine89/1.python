{
 "cells": [
  {
   "cell_type": "code",
   "execution_count": 5,
   "id": "ba50719c-ce35-4a39-a7c6-147b4aec45f5",
   "metadata": {},
   "outputs": [],
   "source": [
    "def traingle():\n",
    "    hei=int(input(\"height:\"))\n",
    "    bre=int(input(\"breadth:\"))\n",
    "    areaformula=(hei*bre)/2\n",
    "    print(\"area formula:\" \"(height*breadth)/2\")\n",
    "    print(\"area of traingle:\",areaformula)\n",
    "    hei1=int(input(\"height1:\"))\n",
    "    hei2=int(input(\"height2:\"))\n",
    "    bre=int(input(\"breadth:\"))\n",
    "    perimeterformula=hei1+hei2+bre\n",
    "    print(\"perimeter formula:\" \"height1+height2+breadth\")\n",
    "    print(\"perimeter of traingle:\",perimeterformula)\n"
   ]
  },
  {
   "cell_type": "code",
   "execution_count": 7,
   "id": "531da24e-13c5-41f6-baca-3915184e7b83",
   "metadata": {},
   "outputs": [
    {
     "name": "stdin",
     "output_type": "stream",
     "text": [
      "height: 32\n",
      "breadth: 34\n"
     ]
    },
    {
     "name": "stdout",
     "output_type": "stream",
     "text": [
      "area formula:(height*breadth)/2\n",
      "area of traingle: 544.0\n"
     ]
    },
    {
     "name": "stdin",
     "output_type": "stream",
     "text": [
      "height1: 2\n",
      "height2: 4\n",
      "breadth: 4\n"
     ]
    },
    {
     "name": "stdout",
     "output_type": "stream",
     "text": [
      "perimeter formula:height1+height2+breadth\n",
      "perimeter of traingle: 10\n"
     ]
    }
   ],
   "source": [
    "traingle()"
   ]
  },
  {
   "cell_type": "code",
   "execution_count": 9,
   "id": "65f2fe06-4d59-4af0-9a83-25d5c6036d31",
   "metadata": {},
   "outputs": [],
   "source": [
    "def oddeven():\n",
    "    num=int(input(\"enter a number:\"))\n",
    "    if((num%2)==1):\n",
    "        print(num,\" odd number\")\n",
    "        message=\" odd number\"\n",
    "    else:\n",
    "        print(num,\" even number\")\n",
    "        message=\"even number\"\n",
    "        return message\n"
   ]
  },
  {
   "cell_type": "code",
   "execution_count": 30,
   "id": "a91ec0cd-38cc-446f-8d03-2138d22caa6d",
   "metadata": {},
   "outputs": [
    {
     "name": "stdin",
     "output_type": "stream",
     "text": [
      "enter a number: 52452\n"
     ]
    },
    {
     "name": "stdout",
     "output_type": "stream",
     "text": [
      "52452  even number\n"
     ]
    }
   ],
   "source": [
    "ab=oddeven()"
   ]
  },
  {
   "cell_type": "code",
   "execution_count": 15,
   "id": "9750661a-4d85-4179-9414-2db3004888a1",
   "metadata": {},
   "outputs": [],
   "source": [
    "def elegible():\n",
    "    gen=input(\"your gender\")\n",
    "    age=int(input(\"your age\"))\n",
    "    if(age<25):\n",
    "        print(\"not elegible\")\n",
    "        a=\"not elegible\"\n",
    "    else:\n",
    "        print(\"elegible\")\n",
    "        a= \"elegible\"\n",
    "        return a\n"
   ]
  },
  {
   "cell_type": "code",
   "execution_count": 17,
   "id": "884ec4c1-8efd-4e21-94a2-aaf340c54355",
   "metadata": {},
   "outputs": [
    {
     "name": "stdin",
     "output_type": "stream",
     "text": [
      "your gender male\n",
      "your age 20\n"
     ]
    },
    {
     "name": "stdout",
     "output_type": "stream",
     "text": [
      "not elegible\n"
     ]
    }
   ],
   "source": [
    "ac=elegible()"
   ]
  },
  {
   "cell_type": "code",
   "execution_count": 19,
   "id": "34ebcb92-2069-4f05-a7c1-5f35c5b2d1f3",
   "metadata": {},
   "outputs": [],
   "source": [
    "def subfields():\n",
    "    print(\"sub fields in AI are:\")\n",
    "    name=['machine learning', 'neutral networks', 'vision', 'robotics', 'speech processing', 'neutral language processing']\n",
    "    for temp in name:\n",
    "        print(temp)\n"
   ]
  },
  {
   "cell_type": "code",
   "execution_count": 21,
   "id": "1c203e25-fdaa-4f07-8f2e-60163d6ae97a",
   "metadata": {},
   "outputs": [
    {
     "name": "stdout",
     "output_type": "stream",
     "text": [
      "sub fields in AI are:\n",
      "machine learning\n",
      "neutral networks\n",
      "vision\n",
      "robotics\n",
      "speech processing\n",
      "neutral language processing\n"
     ]
    }
   ],
   "source": [
    "subfields()"
   ]
  },
  {
   "cell_type": "code",
   "execution_count": 23,
   "id": "d5bfcab4-2fd9-43ca-a78d-0cac895c9aaf",
   "metadata": {},
   "outputs": [],
   "source": [
    "def percentage():\n",
    "    sub1=int(input(\"subject1=\"))\n",
    "    sub2=int(input(\"subject2=\"))\n",
    "    sub3=int(input(\"subject3=\"))\n",
    "    sub4=int(input(\"subject4=\"))\n",
    "    sub5=int(input(\"subject5=\"))\n",
    "    tot=sub1+sub2+sub3+sub4+sub5\n",
    "    per=tot/5\n",
    "    print(\"total:\",tot)\n",
    "    asd=\"tot\"\n",
    "    print(\"percentage:\",per)\n",
    "    asd=\"per\"\n",
    "    return asd\n"
   ]
  },
  {
   "cell_type": "code",
   "execution_count": 25,
   "id": "1607a908-9a64-4aab-9486-446626662b24",
   "metadata": {},
   "outputs": [
    {
     "name": "stdin",
     "output_type": "stream",
     "text": [
      "subject1= 98\n",
      "subject2= 87\n",
      "subject3= 95\n",
      "subject4= 95\n",
      "subject5= 93\n"
     ]
    },
    {
     "name": "stdout",
     "output_type": "stream",
     "text": [
      "total: 468\n",
      "percentage: 93.6\n"
     ]
    }
   ],
   "source": [
    "ad=percentage()"
   ]
  },
  {
   "cell_type": "code",
   "execution_count": null,
   "id": "553a6053-cdfe-4ef2-9a90-d69547f93d56",
   "metadata": {},
   "outputs": [],
   "source": []
  }
 ],
 "metadata": {
  "kernelspec": {
   "display_name": "Python [conda env:base] *",
   "language": "python",
   "name": "conda-base-py"
  },
  "language_info": {
   "codemirror_mode": {
    "name": "ipython",
    "version": 3
   },
   "file_extension": ".py",
   "mimetype": "text/x-python",
   "name": "python",
   "nbconvert_exporter": "python",
   "pygments_lexer": "ipython3",
   "version": "3.12.7"
  }
 },
 "nbformat": 4,
 "nbformat_minor": 5
}
